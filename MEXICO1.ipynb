{
 "cells": [
  {
   "cell_type": "code",
   "execution_count": 24,
   "id": "69b9c3cc-a324-4711-b51f-41654fc43efc",
   "metadata": {},
   "outputs": [
    {
     "data": {
      "text/plain": [
       "['countries', 'rivers', 'cities', 'indicators']"
      ]
     },
     "execution_count": 24,
     "metadata": {},
     "output_type": "execute_result"
    }
   ],
   "source": [
    "linkWorldMap=\"https://github.com/CienciaDeDatosEspacial/intro_geodataframe/raw/main/maps/worldMaps.gpkg\"\n",
    "\n",
    "\n",
    "import geopandas as gpd\n",
    "from  fiona import listlayers\n",
    "listlayers(linkWorldMap)"
   ]
  },
  {
   "cell_type": "code",
   "execution_count": 25,
   "id": "c70b8343-b507-439c-ae34-4014b8c52602",
   "metadata": {},
   "outputs": [],
   "source": [
    "countries=gpd.read_file(linkWorldMap,layer='countries')\n",
    "rivers=gpd.read_file(linkWorldMap,layer='rivers')\n",
    "cities=gpd.read_file(linkWorldMap,layer='cities')\n",
    "indicators=gpd.read_file(linkWorldMap,layer='indicators')"
   ]
  },
  {
   "cell_type": "code",
   "execution_count": 26,
   "id": "6f5d8782-86b0-4a64-b595-adc4c35f128d",
   "metadata": {},
   "outputs": [
    {
     "data": {
      "text/html": [
       "<div>\n",
       "<style scoped>\n",
       "    .dataframe tbody tr th:only-of-type {\n",
       "        vertical-align: middle;\n",
       "    }\n",
       "\n",
       "    .dataframe tbody tr th {\n",
       "        vertical-align: top;\n",
       "    }\n",
       "\n",
       "    .dataframe thead th {\n",
       "        text-align: right;\n",
       "    }\n",
       "</style>\n",
       "<table border=\"1\" class=\"dataframe\">\n",
       "  <thead>\n",
       "    <tr style=\"text-align: right;\">\n",
       "      <th></th>\n",
       "      <th>COUNTRY</th>\n",
       "      <th>geometry</th>\n",
       "    </tr>\n",
       "  </thead>\n",
       "  <tbody>\n",
       "    <tr>\n",
       "      <th>0</th>\n",
       "      <td>Aruba (Netherlands)</td>\n",
       "      <td>POLYGON ((-69.88223 12.41111, -69.94695 12.436...</td>\n",
       "    </tr>\n",
       "    <tr>\n",
       "      <th>1</th>\n",
       "      <td>Antigua and Barbuda</td>\n",
       "      <td>MULTIPOLYGON (((-61.73889 17.54055, -61.75195 ...</td>\n",
       "    </tr>\n",
       "    <tr>\n",
       "      <th>3</th>\n",
       "      <td>Algeria</td>\n",
       "      <td>POLYGON ((-5.15213 30.18047, -5.13917 30.19236...</td>\n",
       "    </tr>\n",
       "    <tr>\n",
       "      <th>4</th>\n",
       "      <td>Azerbaijan</td>\n",
       "      <td>MULTIPOLYGON (((46.54037 38.87559, 46.49554 38...</td>\n",
       "    </tr>\n",
       "    <tr>\n",
       "      <th>5</th>\n",
       "      <td>Albania</td>\n",
       "      <td>POLYGON ((20.79192 40.43154, 20.78722 40.39472...</td>\n",
       "    </tr>\n",
       "    <tr>\n",
       "      <th>...</th>\n",
       "      <td>...</td>\n",
       "      <td>...</td>\n",
       "    </tr>\n",
       "    <tr>\n",
       "      <th>245</th>\n",
       "      <td>Zambia</td>\n",
       "      <td>POLYGON ((30.21302 -14.98172, 30.21917 -15.096...</td>\n",
       "    </tr>\n",
       "    <tr>\n",
       "      <th>246</th>\n",
       "      <td>Zimbabwe</td>\n",
       "      <td>POLYGON ((32.48888 -21.34445, 32.46541 -21.325...</td>\n",
       "    </tr>\n",
       "    <tr>\n",
       "      <th>247</th>\n",
       "      <td>South Sudan</td>\n",
       "      <td>POLYGON ((34.21807 9.96458, 34.20722 9.90500, ...</td>\n",
       "    </tr>\n",
       "    <tr>\n",
       "      <th>250</th>\n",
       "      <td>Curacao (Netherlands)</td>\n",
       "      <td>POLYGON ((-68.96556 12.19889, -68.91196 12.181...</td>\n",
       "    </tr>\n",
       "    <tr>\n",
       "      <th>251</th>\n",
       "      <td>Bonaire (Netherlands)</td>\n",
       "      <td>POLYGON ((-68.19736 12.22264, -68.19292 12.207...</td>\n",
       "    </tr>\n",
       "  </tbody>\n",
       "</table>\n",
       "<p>180 rows × 2 columns</p>\n",
       "</div>"
      ],
      "text/plain": [
       "                   COUNTRY                                           geometry\n",
       "0      Aruba (Netherlands)  POLYGON ((-69.88223 12.41111, -69.94695 12.436...\n",
       "1      Antigua and Barbuda  MULTIPOLYGON (((-61.73889 17.54055, -61.75195 ...\n",
       "3                  Algeria  POLYGON ((-5.15213 30.18047, -5.13917 30.19236...\n",
       "4               Azerbaijan  MULTIPOLYGON (((46.54037 38.87559, 46.49554 38...\n",
       "5                  Albania  POLYGON ((20.79192 40.43154, 20.78722 40.39472...\n",
       "..                     ...                                                ...\n",
       "245                 Zambia  POLYGON ((30.21302 -14.98172, 30.21917 -15.096...\n",
       "246               Zimbabwe  POLYGON ((32.48888 -21.34445, 32.46541 -21.325...\n",
       "247            South Sudan  POLYGON ((34.21807 9.96458, 34.20722 9.90500, ...\n",
       "250  Curacao (Netherlands)  POLYGON ((-68.96556 12.19889, -68.91196 12.181...\n",
       "251  Bonaire (Netherlands)  POLYGON ((-68.19736 12.22264, -68.19292 12.207...\n",
       "\n",
       "[180 rows x 2 columns]"
      ]
     },
     "execution_count": 26,
     "metadata": {},
     "output_type": "execute_result"
    }
   ],
   "source": [
    "countries.cx[:50,:50]"
   ]
  },
  {
   "cell_type": "code",
   "execution_count": 27,
   "id": "832998ac-8a7f-4084-b97c-5e3359d27844",
   "metadata": {},
   "outputs": [
    {
     "data": {
      "text/plain": [
       "<Axes: >"
      ]
     },
     "execution_count": 27,
     "metadata": {},
     "output_type": "execute_result"
    },
    {
     "data": {
      "image/png": "[encoded data removed]",
      "text/plain": [
       "<Figure size 640x480 with 1 Axes>"
      ]
     },
     "metadata": {},
     "output_type": "display_data"
    }
   ],
   "source": [
    "#then\n",
    "countries.cx[:50,:50].plot()"
   ]
  },
  {
   "cell_type": "code",
   "execution_count": 28,
   "id": "2ef9f42e-d138-4d40-b7ce-944c7e3faba7",
   "metadata": {},
   "outputs": [],
   "source": [
    "mexico =countries[countries.COUNTRY=='Mexico']"
   ]
  },
  {
   "cell_type": "code",
   "execution_count": 29,
   "id": "094a0030-e9b8-4fc9-a543-ab7dcdefdd81",
   "metadata": {},
   "outputs": [],
   "source": [
    "citiesMexico_clipped = gpd.clip(gdf=cities,\n",
    "                          mask=mexico)\n",
    "riversMexico_clipped = gpd.clip(gdf=rivers,\n",
    "                               mask=mexico)"
   ]
  },
  {
   "cell_type": "code",
   "execution_count": 30,
   "id": "dcaeb15d-f2ba-4845-8431-b7666e4cc076",
   "metadata": {},
   "outputs": [
    {
     "data": {
      "text/plain": [
       "<Axes: >"
      ]
     },
     "execution_count": 30,
     "metadata": {},
     "output_type": "execute_result"
    },
    {
     "data": {
      "image/png": "[encoded data removed]",
      "text/plain": [
       "<Figure size 500x500 with 1 Axes>"
      ]
     },
     "metadata": {},
     "output_type": "display_data"
    }
   ],
   "source": [
    "base = mexico.plot(facecolor=\"greenyellow\", edgecolor='black', linewidth=0.4,figsize=(5,5))\n",
    "citiesMexico_clipped.plot(marker='+', color='red', markersize=15,\n",
    "                    ax=base)\n",
    "riversMexico_clipped.plot(edgecolor='blue', linewidth=0.4,\n",
    "                    ax=base)"
   ]
  },
  {
   "cell_type": "code",
   "execution_count": 31,
   "id": "209256f0-3f3a-4be1-9b64-445ccbcaa906",
   "metadata": {},
   "outputs": [
    {
     "data": {
      "text/plain": [
       "[Axis(name=Northing, abbrev=N, direction=north, unit_auth_code=EPSG, unit_code=9001, unit_name=metre),\n",
       " Axis(name=Easting, abbrev=E, direction=east, unit_auth_code=EPSG, unit_code=9001, unit_name=metre)]"
      ]
     },
     "execution_count": 31,
     "metadata": {},
     "output_type": "execute_result"
    }
   ],
   "source": [
    "mexico.to_crs(6362).crs.axis_info"
   ]
  },
  {
   "cell_type": "code",
   "execution_count": 32,
   "id": "9d6b4a78-4dc1-4117-bdbc-568a6bda8532",
   "metadata": {},
   "outputs": [
    {
     "data": {
      "text/plain": [
       "154    POINT (2480735.285 1322377.890)\n",
       "dtype: geometry"
      ]
     },
     "execution_count": 32,
     "metadata": {},
     "output_type": "execute_result"
    }
   ],
   "source": [
    "# now this works with no warning\n",
    "mexico.to_crs(6362).centroid"
   ]
  },
  {
   "cell_type": "code",
   "execution_count": 33,
   "id": "fa89d070-046a-453e-b596-ddffc7969376",
   "metadata": {},
   "outputs": [
    {
     "data": {
      "text/plain": [
       "154    POINT (2480735.285 1322377.890)\n",
       "dtype: geometry"
      ]
     },
     "execution_count": 33,
     "metadata": {},
     "output_type": "execute_result"
    }
   ],
   "source": [
    "# now this works with no warning\n",
    "mexico.to_crs(6362).centroid"
   ]
  },
  {
   "cell_type": "code",
   "execution_count": 34,
   "id": "a5ac1561-6d19-41e6-98ab-03baa8a5fe5f",
   "metadata": {},
   "outputs": [],
   "source": [
    "mexico_6362=mexico.to_crs(6362)\n",
    "cities_Mexico_6362=citiesMexico_clipped.to_crs(mexico_6362.crs)\n",
    "rivers_Mexico_6362=riversMexico_clipped.to_crs(mexico_6362.crs)"
   ]
  },
  {
   "cell_type": "code",
   "execution_count": 35,
   "id": "7ebeb519-6175-4491-87d7-b21aa4d15d4b",
   "metadata": {},
   "outputs": [],
   "source": [
    "## saving\n",
    "\n",
    "\n",
    "import os\n",
    "\n",
    "mexico_6362.to_file(os.path.join(\"maps\",\"mexicoMaps_6362.gpkg\"), layer='country', driver=\"GPKG\")\n",
    "cities_Mexico_6362.to_file(os.path.join(\"maps\",\"mexicoMaps_6362.gpkg\"), layer='cities', driver=\"GPKG\")\n",
    "rivers_Mexico_6362.to_file(os.path.join(\"maps\",\"mexicoMaps_6362.gpkg\"), layer='rivers', driver=\"GPKG\")\n",
    "mexico_6362.centroid.to_file(os.path.join(\"maps\",\"mexicoMaps_6362.gpkg\"), layer='centroid', driver=\"GPKG\")"
   ]
  },
  {
   "cell_type": "code",
   "execution_count": 36,
   "id": "eb8355a9-ae0a-44f4-be8f-f914674a82d3",
   "metadata": {},
   "outputs": [
    {
     "data": {
      "text/html": [
       "<div>\n",
       "<style scoped>\n",
       "    .dataframe tbody tr th:only-of-type {\n",
       "        vertical-align: middle;\n",
       "    }\n",
       "\n",
       "    .dataframe tbody tr th {\n",
       "        vertical-align: top;\n",
       "    }\n",
       "\n",
       "    .dataframe thead th {\n",
       "        text-align: right;\n",
       "    }\n",
       "</style>\n",
       "<table border=\"1\" class=\"dataframe\">\n",
       "  <thead>\n",
       "    <tr style=\"text-align: right;\">\n",
       "      <th></th>\n",
       "      <th>id</th>\n",
       "      <th>ident</th>\n",
       "      <th>type</th>\n",
       "      <th>name</th>\n",
       "      <th>latitude_deg</th>\n",
       "      <th>longitude_deg</th>\n",
       "      <th>elevation_ft</th>\n",
       "      <th>continent</th>\n",
       "      <th>country_name</th>\n",
       "      <th>iso_country</th>\n",
       "      <th>...</th>\n",
       "      <th>municipality</th>\n",
       "      <th>scheduled_service</th>\n",
       "      <th>gps_code</th>\n",
       "      <th>iata_code</th>\n",
       "      <th>local_code</th>\n",
       "      <th>home_link</th>\n",
       "      <th>wikipedia_link</th>\n",
       "      <th>keywords</th>\n",
       "      <th>score</th>\n",
       "      <th>last_updated</th>\n",
       "    </tr>\n",
       "  </thead>\n",
       "  <tbody>\n",
       "    <tr>\n",
       "      <th>0</th>\n",
       "      <td>4762</td>\n",
       "      <td>MMUN</td>\n",
       "      <td>large_airport</td>\n",
       "      <td>Aeropuerto Internacional de Cancún</td>\n",
       "      <td>21.039444</td>\n",
       "      <td>-86.874304</td>\n",
       "      <td>22.0</td>\n",
       "      <td>NaN</td>\n",
       "      <td>Mexico</td>\n",
       "      <td>MX</td>\n",
       "      <td>...</td>\n",
       "      <td>Cancún</td>\n",
       "      <td>1</td>\n",
       "      <td>MMUN</td>\n",
       "      <td>CUN</td>\n",
       "      <td>NaN</td>\n",
       "      <td>http://www.asur.com.mx/asur/ingles/aeropuertos...</td>\n",
       "      <td>https://en.wikipedia.org/wiki/Canc%C3%BAn_Inte...</td>\n",
       "      <td>NaN</td>\n",
       "      <td>51150</td>\n",
       "      <td>2024-04-02T16:30:59+00:00</td>\n",
       "    </tr>\n",
       "    <tr>\n",
       "      <th>1</th>\n",
       "      <td>4731</td>\n",
       "      <td>MMMX</td>\n",
       "      <td>large_airport</td>\n",
       "      <td>Aeropuerto Internacional Lic. Benito Juárez</td>\n",
       "      <td>19.435433</td>\n",
       "      <td>-99.082432</td>\n",
       "      <td>7316.0</td>\n",
       "      <td>NaN</td>\n",
       "      <td>Mexico</td>\n",
       "      <td>MX</td>\n",
       "      <td>...</td>\n",
       "      <td>Ciudad de México</td>\n",
       "      <td>1</td>\n",
       "      <td>MMMX</td>\n",
       "      <td>MEX</td>\n",
       "      <td>ME1</td>\n",
       "      <td>https://www.aicm.com.mx</td>\n",
       "      <td>https://en.wikipedia.org/wiki/Mexico_City_Inte...</td>\n",
       "      <td>AICM</td>\n",
       "      <td>1025275</td>\n",
       "      <td>2022-12-18T11:26:51+00:00</td>\n",
       "    </tr>\n",
       "    <tr>\n",
       "      <th>2</th>\n",
       "      <td>4745</td>\n",
       "      <td>MMPR</td>\n",
       "      <td>large_airport</td>\n",
       "      <td>Aeropuerto Internacional Lic. Gustavo Díaz Ordaz</td>\n",
       "      <td>20.679746</td>\n",
       "      <td>-105.246685</td>\n",
       "      <td>23.0</td>\n",
       "      <td>NaN</td>\n",
       "      <td>Mexico</td>\n",
       "      <td>MX</td>\n",
       "      <td>...</td>\n",
       "      <td>Ciudad de Puerto Vallarta</td>\n",
       "      <td>1</td>\n",
       "      <td>MMPR</td>\n",
       "      <td>PVR</td>\n",
       "      <td>NaN</td>\n",
       "      <td>http://vallarta.aeropuertosgap.com.mx/index.ph...</td>\n",
       "      <td>https://en.wikipedia.org/wiki/Lic._Gustavo_D%C...</td>\n",
       "      <td>Licenciado Gustavo Díaz Ordaz</td>\n",
       "      <td>1150</td>\n",
       "      <td>2022-12-18T13:32:23+00:00</td>\n",
       "    </tr>\n",
       "    <tr>\n",
       "      <th>3</th>\n",
       "      <td>4750</td>\n",
       "      <td>MMSD</td>\n",
       "      <td>large_airport</td>\n",
       "      <td>Aeropuerto Internacional de Los Cabos</td>\n",
       "      <td>23.151919</td>\n",
       "      <td>-109.720731</td>\n",
       "      <td>374.0</td>\n",
       "      <td>NaN</td>\n",
       "      <td>Mexico</td>\n",
       "      <td>MX</td>\n",
       "      <td>...</td>\n",
       "      <td>San José del Cabo</td>\n",
       "      <td>1</td>\n",
       "      <td>MMSD</td>\n",
       "      <td>SJD</td>\n",
       "      <td>NaN</td>\n",
       "      <td>https://www.loscabosairport.com/</td>\n",
       "      <td>https://en.wikipedia.org/wiki/Los_Cabos_Intern...</td>\n",
       "      <td>NaN</td>\n",
       "      <td>1150</td>\n",
       "      <td>2024-05-07T15:53:13+00:00</td>\n",
       "    </tr>\n",
       "    <tr>\n",
       "      <th>2434</th>\n",
       "      <td>528241</td>\n",
       "      <td>MX-2242</td>\n",
       "      <td>heliport</td>\n",
       "      <td>Monarca I Heliport</td>\n",
       "      <td>19.514861</td>\n",
       "      <td>-100.411000</td>\n",
       "      <td>6798.0</td>\n",
       "      <td>NaN</td>\n",
       "      <td>Mexico</td>\n",
       "      <td>MX</td>\n",
       "      <td>...</td>\n",
       "      <td>Zitacuaro</td>\n",
       "      <td>0</td>\n",
       "      <td>NaN</td>\n",
       "      <td>NaN</td>\n",
       "      <td>HUB</td>\n",
       "      <td>NaN</td>\n",
       "      <td>NaN</td>\n",
       "      <td>NaN</td>\n",
       "      <td>0</td>\n",
       "      <td>2024-05-09T16:14:44+00:00</td>\n",
       "    </tr>\n",
       "    <tr>\n",
       "      <th>2435</th>\n",
       "      <td>319121</td>\n",
       "      <td>MX-0184</td>\n",
       "      <td>closed</td>\n",
       "      <td>SSV Jupiter I Helideck</td>\n",
       "      <td>19.520472</td>\n",
       "      <td>-92.184506</td>\n",
       "      <td>50.0</td>\n",
       "      <td>NaN</td>\n",
       "      <td>Mexico</td>\n",
       "      <td>MX</td>\n",
       "      <td>...</td>\n",
       "      <td>Zonda De Campeche</td>\n",
       "      <td>0</td>\n",
       "      <td>NaN</td>\n",
       "      <td>NaN</td>\n",
       "      <td>NaN</td>\n",
       "      <td>NaN</td>\n",
       "      <td>NaN</td>\n",
       "      <td>Offshore, Oil &amp; Gas, Platform, Mobile, SSV, RE...</td>\n",
       "      <td>0</td>\n",
       "      <td>2024-02-15T13:24:25+00:00</td>\n",
       "    </tr>\n",
       "    <tr>\n",
       "      <th>2436</th>\n",
       "      <td>329377</td>\n",
       "      <td>MX-0869</td>\n",
       "      <td>closed</td>\n",
       "      <td>SSV Safe Regency Helideck</td>\n",
       "      <td>19.400092</td>\n",
       "      <td>-92.039283</td>\n",
       "      <td>33.0</td>\n",
       "      <td>NaN</td>\n",
       "      <td>Mexico</td>\n",
       "      <td>MX</td>\n",
       "      <td>...</td>\n",
       "      <td>Zonda de Campeche</td>\n",
       "      <td>0</td>\n",
       "      <td>NaN</td>\n",
       "      <td>NaN</td>\n",
       "      <td>NaN</td>\n",
       "      <td>NaN</td>\n",
       "      <td>NaN</td>\n",
       "      <td>Offshore, Oil &amp; Gas, Platform, Mobile, SSV, RE...</td>\n",
       "      <td>0</td>\n",
       "      <td>2024-02-15T11:51:59+00:00</td>\n",
       "    </tr>\n",
       "    <tr>\n",
       "      <th>2437</th>\n",
       "      <td>514410</td>\n",
       "      <td>MX-2119</td>\n",
       "      <td>heliport</td>\n",
       "      <td>Helipuerto Campo Militar 37/D - Santa Lucía</td>\n",
       "      <td>19.752188</td>\n",
       "      <td>-98.981398</td>\n",
       "      <td>7365.0</td>\n",
       "      <td>NaN</td>\n",
       "      <td>Mexico</td>\n",
       "      <td>MX</td>\n",
       "      <td>...</td>\n",
       "      <td>Zumpango</td>\n",
       "      <td>0</td>\n",
       "      <td>NaN</td>\n",
       "      <td>NaN</td>\n",
       "      <td>NLU</td>\n",
       "      <td>NaN</td>\n",
       "      <td>https://es.wikipedia.org/wiki/Base_Aérea_Milit...</td>\n",
       "      <td>NaN</td>\n",
       "      <td>0</td>\n",
       "      <td>2023-11-24T14:45:56+00:00</td>\n",
       "    </tr>\n",
       "  </tbody>\n",
       "</table>\n",
       "<p>8 rows × 23 columns</p>\n",
       "</div>"
      ],
      "text/plain": [
       "          id    ident           type  \\\n",
       "0       4762     MMUN  large_airport   \n",
       "1       4731     MMMX  large_airport   \n",
       "2       4745     MMPR  large_airport   \n",
       "3       4750     MMSD  large_airport   \n",
       "2434  528241  MX-2242       heliport   \n",
       "2435  319121  MX-0184         closed   \n",
       "2436  329377  MX-0869         closed   \n",
       "2437  514410  MX-2119       heliport   \n",
       "\n",
       "                                                  name  latitude_deg  \\\n",
       "0                   Aeropuerto Internacional de Cancún     21.039444   \n",
       "1          Aeropuerto Internacional Lic. Benito Juárez     19.435433   \n",
       "2     Aeropuerto Internacional Lic. Gustavo Díaz Ordaz     20.679746   \n",
       "3                Aeropuerto Internacional de Los Cabos     23.151919   \n",
       "2434                                Monarca I Heliport     19.514861   \n",
       "2435                            SSV Jupiter I Helideck     19.520472   \n",
       "2436                         SSV Safe Regency Helideck     19.400092   \n",
       "2437       Helipuerto Campo Militar 37/D - Santa Lucía     19.752188   \n",
       "\n",
       "      longitude_deg  elevation_ft  continent country_name iso_country  ...  \\\n",
       "0        -86.874304          22.0        NaN       Mexico          MX  ...   \n",
       "1        -99.082432        7316.0        NaN       Mexico          MX  ...   \n",
       "2       -105.246685          23.0        NaN       Mexico          MX  ...   \n",
       "3       -109.720731         374.0        NaN       Mexico          MX  ...   \n",
       "2434    -100.411000        6798.0        NaN       Mexico          MX  ...   \n",
       "2435     -92.184506          50.0        NaN       Mexico          MX  ...   \n",
       "2436     -92.039283          33.0        NaN       Mexico          MX  ...   \n",
       "2437     -98.981398        7365.0        NaN       Mexico          MX  ...   \n",
       "\n",
       "                   municipality scheduled_service gps_code iata_code  \\\n",
       "0                        Cancún                 1     MMUN       CUN   \n",
       "1              Ciudad de México                 1     MMMX       MEX   \n",
       "2     Ciudad de Puerto Vallarta                 1     MMPR       PVR   \n",
       "3             San José del Cabo                 1     MMSD       SJD   \n",
       "2434                  Zitacuaro                 0      NaN       NaN   \n",
       "2435          Zonda De Campeche                 0      NaN       NaN   \n",
       "2436          Zonda de Campeche                 0      NaN       NaN   \n",
       "2437                   Zumpango                 0      NaN       NaN   \n",
       "\n",
       "      local_code                                          home_link  \\\n",
       "0            NaN  http://www.asur.com.mx/asur/ingles/aeropuertos...   \n",
       "1            ME1                            https://www.aicm.com.mx   \n",
       "2            NaN  http://vallarta.aeropuertosgap.com.mx/index.ph...   \n",
       "3            NaN                   https://www.loscabosairport.com/   \n",
       "2434         HUB                                                NaN   \n",
       "2435         NaN                                                NaN   \n",
       "2436         NaN                                                NaN   \n",
       "2437         NLU                                                NaN   \n",
       "\n",
       "                                         wikipedia_link  \\\n",
       "0     https://en.wikipedia.org/wiki/Canc%C3%BAn_Inte...   \n",
       "1     https://en.wikipedia.org/wiki/Mexico_City_Inte...   \n",
       "2     https://en.wikipedia.org/wiki/Lic._Gustavo_D%C...   \n",
       "3     https://en.wikipedia.org/wiki/Los_Cabos_Intern...   \n",
       "2434                                                NaN   \n",
       "2435                                                NaN   \n",
       "2436                                                NaN   \n",
       "2437  https://es.wikipedia.org/wiki/Base_Aérea_Milit...   \n",
       "\n",
       "                                               keywords    score  \\\n",
       "0                                                   NaN    51150   \n",
       "1                                                  AICM  1025275   \n",
       "2                         Licenciado Gustavo Díaz Ordaz     1150   \n",
       "3                                                   NaN     1150   \n",
       "2434                                                NaN        0   \n",
       "2435  Offshore, Oil & Gas, Platform, Mobile, SSV, RE...        0   \n",
       "2436  Offshore, Oil & Gas, Platform, Mobile, SSV, RE...        0   \n",
       "2437                                                NaN        0   \n",
       "\n",
       "                   last_updated  \n",
       "0     2024-04-02T16:30:59+00:00  \n",
       "1     2022-12-18T11:26:51+00:00  \n",
       "2     2022-12-18T13:32:23+00:00  \n",
       "3     2024-05-07T15:53:13+00:00  \n",
       "2434  2024-05-09T16:14:44+00:00  \n",
       "2435  2024-02-15T13:24:25+00:00  \n",
       "2436  2024-02-15T11:51:59+00:00  \n",
       "2437  2023-11-24T14:45:56+00:00  \n",
       "\n",
       "[8 rows x 23 columns]"
      ]
     },
     "execution_count": 36,
     "metadata": {},
     "output_type": "execute_result"
    }
   ],
   "source": [
    "import pandas as pd\n",
    "infoairports=pd.read_csv(os.path.join(\"data\",\"mx-airports .csv\"))\n",
    "\n",
    "# some rows\n",
    "\n",
    "infoairports.iloc[[0,1,2,3,-4,-3,-2,-1],:] #head and tail\n"
   ]
  },
  {
   "cell_type": "code",
   "execution_count": 37,
   "id": "300a7d2f-bba1-41d7-b9fe-8ee1eeeeced3",
   "metadata": {},
   "outputs": [
    {
     "name": "stdout",
     "output_type": "stream",
     "text": [
      "<class 'pandas.core.frame.DataFrame'>\n",
      "RangeIndex: 2438 entries, 0 to 2437\n",
      "Data columns (total 7 columns):\n",
      " #   Column         Non-Null Count  Dtype  \n",
      "---  ------         --------------  -----  \n",
      " 0   name           2438 non-null   object \n",
      " 1   type           2438 non-null   object \n",
      " 2   latitude_deg   2438 non-null   float64\n",
      " 3   longitude_deg  2438 non-null   float64\n",
      " 4   elevation_ft   2161 non-null   float64\n",
      " 5   region_name    2438 non-null   object \n",
      " 6   municipality   2407 non-null   object \n",
      "dtypes: float64(3), object(4)\n",
      "memory usage: 133.5+ KB\n"
     ]
    }
   ],
   "source": [
    "keep=['name','type','latitude_deg', 'longitude_deg','elevation_ft','region_name','municipality']\n",
    "infoairports=infoairports.loc[:,keep]\n",
    "\n",
    "infoairports.info()"
   ]
  },
  {
   "cell_type": "code",
   "execution_count": 38,
   "id": "4b7ce503-a119-4917-9bb5-fd2d7f8a971d",
   "metadata": {},
   "outputs": [],
   "source": [
    "numericCols=['latitude_deg', 'longitude_deg','elevation_ft']\n",
    "infoairports[numericCols]=infoairports.loc[:,numericCols].apply(lambda x:pd.to_numeric(x))"
   ]
  },
  {
   "cell_type": "code",
   "execution_count": 39,
   "id": "bd6f91dd-9ec0-477b-aa2d-5a945bbccf5e",
   "metadata": {},
   "outputs": [
    {
     "ename": "NameError",
     "evalue": "name 'ecuador' is not defined",
     "output_type": "error",
     "traceback": [
      "\u001b[1;31m---------------------------------------------------------------------------\u001b[0m",
      "\u001b[1;31mNameError\u001b[0m                                 Traceback (most recent call last)",
      "Cell \u001b[1;32mIn[39], line 4\u001b[0m\n\u001b[0;32m      1\u001b[0m airports\u001b[38;5;241m=\u001b[39mgpd\u001b[38;5;241m.\u001b[39mGeoDataFrame(data\u001b[38;5;241m=\u001b[39minfoairports\u001b[38;5;241m.\u001b[39mcopy(),\n\u001b[0;32m      2\u001b[0m                  geometry\u001b[38;5;241m=\u001b[39mgpd\u001b[38;5;241m.\u001b[39mpoints_from_xy(infoairports\u001b[38;5;241m.\u001b[39mlongitude_deg,\n\u001b[0;32m      3\u001b[0m                                              infoairports\u001b[38;5;241m.\u001b[39mlatitude_deg),\n\u001b[1;32m----> 4\u001b[0m                  crs\u001b[38;5;241m=\u001b[39mecuador\u001b[38;5;241m.\u001b[39mcrs\u001b[38;5;241m.\u001b[39mto_epsg())\u001b[38;5;66;03m# the coordinates were in degrees - unprojected\u001b[39;00m\n\u001b[0;32m      6\u001b[0m \u001b[38;5;66;03m# let's plot\u001b[39;00m\n\u001b[0;32m      8\u001b[0m base \u001b[38;5;241m=\u001b[39m ecuador_24817\u001b[38;5;241m.\u001b[39mplot(color\u001b[38;5;241m=\u001b[39m\u001b[38;5;124m'\u001b[39m\u001b[38;5;124mwhite\u001b[39m\u001b[38;5;124m'\u001b[39m, edgecolor\u001b[38;5;241m=\u001b[39m\u001b[38;5;124m'\u001b[39m\u001b[38;5;124mblack\u001b[39m\u001b[38;5;124m'\u001b[39m)\n",
      "\u001b[1;31mNameError\u001b[0m: name 'ecuador' is not defined"
     ]
    }
   ],
   "source": [
    "airports=gpd.GeoDataFrame(data=infoairports.copy(),\n",
    "                 geometry=gpd.points_from_xy(infoairports.longitude_deg,\n",
    "                                             infoairports.latitude_deg),\n",
    "                 crs=ecuador.crs.to_epsg())# the coordinates were in degrees - unprojected\n",
    "\n",
    "# let's plot\n",
    "\n",
    "base = ecuador_24817.plot(color='white', edgecolor='black')\n",
    "airports.plot(ax=base)"
   ]
  },
  {
   "cell_type": "code",
   "execution_count": null,
   "id": "87373ccc-8631-4668-96df-8ea23826574c",
   "metadata": {},
   "outputs": [],
   "source": [
    "#remember:\n",
    "type(airports), type(infoairports)"
   ]
  },
  {
   "cell_type": "code",
   "execution_count": null,
   "id": "36c7af83-6558-4291-a99d-a76f4c3be56e",
   "metadata": {},
   "outputs": [],
   "source": [
    "airports_6362=airports.to_crs(6362)\n",
    "\n",
    "## then\n",
    "\n",
    "base = mexico_6362.plot(color='white', edgecolor='black')\n",
    "airports_6362.plot(ax=base)"
   ]
  },
  {
   "cell_type": "code",
   "execution_count": null,
   "id": "e1fdae7a-000d-4a5e-a98a-023c8f70954b",
   "metadata": {},
   "outputs": [],
   "source": [
    "airports_6362['type'].value_counts() # this will not work: airports.type.value_counts()"
   ]
  },
  {
   "cell_type": "code",
   "execution_count": null,
   "id": "bafff141-ad28-4329-8608-255d2c039276",
   "metadata": {},
   "outputs": [],
   "source": [
    "airports_6362.rename(columns={'type':'kind'},inplace=True)\n",
    "\n",
    "## adding the airports to GPKG\n",
    "airports_6362.to_file(os.path.join(\"maps\",\"mexicoMaps_6362.gpkg\"), layer='airports', driver=\"GPKG\")"
   ]
  },
  {
   "cell_type": "code",
   "execution_count": null,
   "id": "82c4ba00-3d43-4d00-9fee-1a4ba6dd2dbc",
   "metadata": {},
   "outputs": [],
   "source": [
    "mexico_6362"
   ]
  },
  {
   "cell_type": "code",
   "execution_count": null,
   "id": "5b0fb993-a091-46ed-b7ee-2d108d42dd50",
   "metadata": {},
   "outputs": [],
   "source": [
    "mexico_6362.boundary"
   ]
  },
  {
   "cell_type": "code",
   "execution_count": null,
   "id": "92944efd-7541-41e3-8d65-fb8ad1203a6c",
   "metadata": {},
   "outputs": [],
   "source": [
    "# This is just the borderline\n",
    "mexico_6362.boundary.plot()"
   ]
  },
  {
   "cell_type": "code",
   "execution_count": null,
   "id": "ec290179-2b1b-4684-83e4-04818637f83a",
   "metadata": {},
   "outputs": [],
   "source": [
    "# does 'boundary' return a GDF?\n",
    "type(mexico_6362.boundary)"
   ]
  },
  {
   "cell_type": "code",
   "execution_count": null,
   "id": "feadaaca-a0b7-4869-a45b-44757a4d74eb",
   "metadata": {},
   "outputs": [],
   "source": [
    "# converting into GDF\n",
    "mexico_6362.boundary.to_frame()"
   ]
  },
  {
   "cell_type": "code",
   "execution_count": null,
   "id": "306ed7a1-c2a0-4e56-abf8-f79fa8462291",
   "metadata": {},
   "outputs": [],
   "source": [
    "# conversion\n",
    "mexico_border=mexico_6362.boundary.to_frame()\n",
    "\n",
    "# new column (optional)\n",
    "mexico_border['name']='Mexico'\n",
    "\n",
    "# renaming the geometry column\n",
    "mexico_border.rename(columns={0:'geometry'},inplace=True)\n",
    "\n",
    "#setting the geometry (the name is not enough)\n",
    "mexico_border = mexico_border.set_geometry(\"geometry\")\n",
    "\n",
    "# verifying:\n",
    "mexico_border.crs"
   ]
  },
  {
   "cell_type": "code",
   "execution_count": null,
   "id": "2ec5d55e-ded8-437e-be48-a5be654236ee",
   "metadata": {},
   "outputs": [],
   "source": [
    "mexico_states=gpd.read_file(os.path.join(\"maps\",\"mex_admbnda_govmex_20210618_SHP\",\"mex_admbnda_adm0_govmex_20210618.shp\"))\n",
    "mexico_municipalities=gpd.read_file(os.path.join(\"maps\",\"mex_admbnda_govmex_20210618_SHP\",\"mex_admbnda_adm0_govmex_20210618.shp\"))"
   ]
  },
  {
   "cell_type": "code",
   "execution_count": null,
   "id": "14ecf514-d5e7-429d-ba70-c08c1464f51a",
   "metadata": {},
   "outputs": [],
   "source": [
    "type(mexico_states), type(mexico_municipalities)"
   ]
  },
  {
   "cell_type": "code",
   "execution_count": null,
   "id": "8a0994a5-42e0-4825-b238-c5051c11ae2e",
   "metadata": {},
   "outputs": [],
   "source": [
    "mexico_states.geometry.head()"
   ]
  },
  {
   "cell_type": "code",
   "execution_count": null,
   "id": "204cace9-59d2-4200-a122-566d412d1802",
   "metadata": {},
   "outputs": [],
   "source": [
    "mexico_municipalities.geometry.head()"
   ]
  },
  {
   "cell_type": "code",
   "execution_count": null,
   "id": "3838a8fd-a0ac-4b8a-97b3-e49edc70e8c5",
   "metadata": {},
   "outputs": [],
   "source": [
    "import matplotlib.pyplot as plt\n",
    "\n",
    "fig, (ax1, ax2) = plt.subplots(ncols=2, sharex=False, sharey=False, figsize=(12,12))\n",
    "\n",
    "mexico_states.plot(ax=ax1, facecolor='lightgrey', edgecolor='black')\n",
    "mexico_municipalities.plot(ax=ax2, facecolor='lightgrey', edgecolor='black',linewidth=0.2)"
   ]
  },
  {
   "cell_type": "code",
   "execution_count": null,
   "id": "3ddeb0e2-8cc1-4a7b-a3b7-e4dc1f85845c",
   "metadata": {},
   "outputs": [],
   "source": [
    "mexico_states.to_crs(6362)"
   ]
  },
  {
   "cell_type": "code",
   "execution_count": null,
   "id": "6f187f9c-8f28-4ddc-8ad3-151a6ec06e25",
   "metadata": {},
   "outputs": [],
   "source": [
    "# set as unprojected\n",
    "mexico_states.crs = \"EPSG:6362\"\n",
    "mexico_municipalities.crs = \"EPSG:6362\""
   ]
  },
  {
   "cell_type": "code",
   "execution_count": null,
   "id": "aa6587f8-6321-4d2f-a469-80f4778e9949",
   "metadata": {},
   "outputs": [],
   "source": [
    "mexico_states=ecuador_states.to_crs(6362)\n",
    "mexico_municipalities=ecuador_municipalities.to_crs(6362)"
   ]
  }
 ],
 "metadata": {
  "kernelspec": {
   "display_name": "Python 3 (ipykernel)",
   "language": "python",
   "name": "python3"
  },
  "language_info": {
   "codemirror_mode": {
    "name": "ipython",
    "version": 3
   },
   "file_extension": ".py",
   "mimetype": "text/x-python",
   "name": "python",
   "nbconvert_exporter": "python",
   "pygments_lexer": "ipython3",
   "version": "3.11.7"
  }
 },
 "nbformat": 4,
 "nbformat_minor": 5
}
